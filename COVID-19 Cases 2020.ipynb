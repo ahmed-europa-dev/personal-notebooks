{
 "cells": [
  {
   "cell_type": "code",
   "execution_count": 1,
   "metadata": {},
   "outputs": [
    {
     "data": {
      "application/vnd.jupyter.widget-view+json": {
       "model_id": "74a0e1989aa24648b68a4fd4144b99cc",
       "version_major": 2,
       "version_minor": 0
      },
      "text/plain": [
       "HBox(children=(Dropdown(description='Number:', index=33, options=('Alabama', 'Alaska', 'Arizona', 'Arkansas', …"
      ]
     },
     "metadata": {},
     "output_type": "display_data"
    },
    {
     "data": {
      "text/markdown": [
       "# New York"
      ],
      "text/plain": [
       "<IPython.core.display.Markdown object>"
      ]
     },
     "metadata": {},
     "output_type": "display_data"
    },
    {
     "data": {
      "text/html": [
       "\n",
       "\n",
       "\n",
       "\n",
       "\n",
       "\n",
       "  <div class=\"bk-root\" id=\"bd18e9e5-7674-463e-b43b-69a06531b299\" data-root-id=\"1185\"></div>\n"
      ]
     },
     "metadata": {},
     "output_type": "display_data"
    },
    {
     "data": {
      "application/javascript": [
       "(function(root) {\n",
       "  function embed_document(root) {\n",
       "    \n",
       "  var docs_json = {\"7f2f0966-93df-4574-932c-c8ff2af901c6\":{\"roots\":{\"references\":[{\"attributes\":{\"below\":[{\"id\":\"1194\"}],\"center\":[{\"id\":\"1197\"},{\"id\":\"1201\"}],\"left\":[{\"id\":\"1198\"}],\"plot_height\":800,\"plot_width\":800,\"renderers\":[{\"id\":\"1219\"}],\"title\":{\"id\":\"1243\"},\"toolbar\":{\"id\":\"1209\"},\"x_range\":{\"id\":\"1186\"},\"x_scale\":{\"id\":\"1190\"},\"y_range\":{\"id\":\"1188\"},\"y_scale\":{\"id\":\"1192\"}},\"id\":\"1185\",\"subtype\":\"Figure\",\"type\":\"Plot\"},{\"attributes\":{\"data\":{\"top\":[1770,2950,3254,4812,5707,4790,7401,5921,5648,8728],\"x\":[1584576000000.0,1584662400000.0,1584748800000.0,1584835200000.0,1584921600000.0,1585008000000.0,1585094400000.0,1585180800000.0,1585267200000.0,1585353600000.0]},\"selected\":{\"id\":\"1261\"},\"selection_policy\":{\"id\":\"1262\"}},\"id\":\"1216\",\"type\":\"ColumnDataSource\"},{\"attributes\":{},\"id\":\"1262\",\"type\":\"UnionRenderers\"},{\"attributes\":{\"mantissas\":[1,2,5],\"max_interval\":500.0,\"num_minor_ticks\":0},\"id\":\"1249\",\"type\":\"AdaptiveTicker\"},{\"attributes\":{\"overlay\":{\"id\":\"1208\"}},\"id\":\"1204\",\"type\":\"BoxZoomTool\"},{\"attributes\":{},\"id\":\"1192\",\"type\":\"LinearScale\"},{\"attributes\":{\"source\":{\"id\":\"1216\"}},\"id\":\"1220\",\"type\":\"CDSView\"},{\"attributes\":{},\"id\":\"1188\",\"type\":\"DataRange1d\"},{\"attributes\":{},\"id\":\"1206\",\"type\":\"ResetTool\"},{\"attributes\":{},\"id\":\"1207\",\"type\":\"HelpTool\"},{\"attributes\":{\"axis\":{\"id\":\"1198\"},\"dimension\":1,\"ticker\":null},\"id\":\"1201\",\"type\":\"Grid\"},{\"attributes\":{},\"id\":\"1202\",\"type\":\"PanTool\"},{\"attributes\":{},\"id\":\"1199\",\"type\":\"BasicTicker\"},{\"attributes\":{\"axis\":{\"id\":\"1194\"},\"ticker\":null},\"id\":\"1197\",\"type\":\"Grid\"},{\"attributes\":{\"days\":[1,15]},\"id\":\"1255\",\"type\":\"DaysTicker\"},{\"attributes\":{\"num_minor_ticks\":5,\"tickers\":[{\"id\":\"1249\"},{\"id\":\"1250\"},{\"id\":\"1251\"},{\"id\":\"1252\"},{\"id\":\"1253\"},{\"id\":\"1254\"},{\"id\":\"1255\"},{\"id\":\"1256\"},{\"id\":\"1257\"},{\"id\":\"1258\"},{\"id\":\"1259\"},{\"id\":\"1260\"}]},\"id\":\"1195\",\"type\":\"DatetimeTicker\"},{\"attributes\":{\"axis_label\":\"Daily Increase # of Cases\",\"formatter\":{\"id\":\"1246\"},\"ticker\":{\"id\":\"1199\"}},\"id\":\"1198\",\"type\":\"LinearAxis\"},{\"attributes\":{\"data_source\":{\"id\":\"1216\"},\"glyph\":{\"id\":\"1217\"},\"hover_glyph\":null,\"muted_glyph\":null,\"nonselection_glyph\":{\"id\":\"1218\"},\"selection_glyph\":null,\"view\":{\"id\":\"1220\"}},\"id\":\"1219\",\"type\":\"GlyphRenderer\"},{\"attributes\":{\"days\":[1,4,7,10,13,16,19,22,25,28]},\"id\":\"1253\",\"type\":\"DaysTicker\"},{\"attributes\":{},\"id\":\"1260\",\"type\":\"YearsTicker\"},{\"attributes\":{},\"id\":\"1261\",\"type\":\"Selection\"},{\"attributes\":{\"bottom_units\":\"screen\",\"fill_alpha\":0.5,\"fill_color\":\"lightgrey\",\"left_units\":\"screen\",\"level\":\"overlay\",\"line_alpha\":1.0,\"line_color\":\"black\",\"line_dash\":[4,4],\"line_width\":2,\"render_mode\":\"css\",\"right_units\":\"screen\",\"top_units\":\"screen\"},\"id\":\"1208\",\"type\":\"BoxAnnotation\"},{\"attributes\":{\"days\":[1,8,15,22]},\"id\":\"1254\",\"type\":\"DaysTicker\"},{\"attributes\":{\"months\":[0,6]},\"id\":\"1259\",\"type\":\"MonthsTicker\"},{\"attributes\":{},\"id\":\"1203\",\"type\":\"WheelZoomTool\"},{\"attributes\":{\"base\":60,\"mantissas\":[1,2,5,10,15,20,30],\"max_interval\":1800000.0,\"min_interval\":1000.0,\"num_minor_ticks\":0},\"id\":\"1250\",\"type\":\"AdaptiveTicker\"},{\"attributes\":{\"months\":[0,4,8]},\"id\":\"1258\",\"type\":\"MonthsTicker\"},{\"attributes\":{},\"id\":\"1190\",\"type\":\"LinearScale\"},{\"attributes\":{\"months\":[0,2,4,6,8,10]},\"id\":\"1257\",\"type\":\"MonthsTicker\"},{\"attributes\":{},\"id\":\"1244\",\"type\":\"DatetimeTickFormatter\"},{\"attributes\":{},\"id\":\"1186\",\"type\":\"DataRange1d\"},{\"attributes\":{},\"id\":\"1205\",\"type\":\"SaveTool\"},{\"attributes\":{\"base\":24,\"mantissas\":[1,2,4,6,8,12],\"max_interval\":43200000.0,\"min_interval\":3600000.0,\"num_minor_ticks\":0},\"id\":\"1251\",\"type\":\"AdaptiveTicker\"},{\"attributes\":{\"months\":[0,1,2,3,4,5,6,7,8,9,10,11]},\"id\":\"1256\",\"type\":\"MonthsTicker\"},{\"attributes\":{\"axis_label\":\"Date\",\"formatter\":{\"id\":\"1244\"},\"ticker\":{\"id\":\"1195\"}},\"id\":\"1194\",\"type\":\"DatetimeAxis\"},{\"attributes\":{\"bottom\":{\"value\":10},\"fill_alpha\":{\"value\":0.1},\"fill_color\":{\"value\":\"#1f77b4\"},\"line_alpha\":{\"value\":0.1},\"line_color\":{\"value\":\"#1f77b4\"},\"top\":{\"field\":\"top\"},\"width\":{\"value\":10},\"x\":{\"field\":\"x\"}},\"id\":\"1218\",\"type\":\"VBar\"},{\"attributes\":{\"days\":[1,2,3,4,5,6,7,8,9,10,11,12,13,14,15,16,17,18,19,20,21,22,23,24,25,26,27,28,29,30,31]},\"id\":\"1252\",\"type\":\"DaysTicker\"},{\"attributes\":{},\"id\":\"1246\",\"type\":\"BasicTickFormatter\"},{\"attributes\":{\"text\":\"\"},\"id\":\"1243\",\"type\":\"Title\"},{\"attributes\":{\"bottom\":{\"value\":10},\"fill_color\":{\"value\":\"#1f77b4\"},\"line_color\":{\"value\":\"#1f77b4\"},\"top\":{\"field\":\"top\"},\"width\":{\"value\":10},\"x\":{\"field\":\"x\"}},\"id\":\"1217\",\"type\":\"VBar\"},{\"attributes\":{\"active_drag\":\"auto\",\"active_inspect\":\"auto\",\"active_multi\":null,\"active_scroll\":\"auto\",\"active_tap\":\"auto\",\"tools\":[{\"id\":\"1202\"},{\"id\":\"1203\"},{\"id\":\"1204\"},{\"id\":\"1205\"},{\"id\":\"1206\"},{\"id\":\"1207\"}]},\"id\":\"1209\",\"type\":\"Toolbar\"}],\"root_ids\":[\"1185\"]},\"title\":\"Bokeh Application\",\"version\":\"2.0.1\"}};\n",
       "  var render_items = [{\"docid\":\"7f2f0966-93df-4574-932c-c8ff2af901c6\",\"root_ids\":[\"1185\"],\"roots\":{\"1185\":\"bd18e9e5-7674-463e-b43b-69a06531b299\"}}];\n",
       "  root.Bokeh.embed.embed_items_notebook(docs_json, render_items);\n",
       "\n",
       "  }\n",
       "  if (root.Bokeh !== undefined) {\n",
       "    embed_document(root);\n",
       "  } else {\n",
       "    var attempts = 0;\n",
       "    var timer = setInterval(function(root) {\n",
       "      if (root.Bokeh !== undefined) {\n",
       "        clearInterval(timer);\n",
       "        embed_document(root);\n",
       "      } else {\n",
       "        attempts++;\n",
       "        if (attempts > 100) {\n",
       "          clearInterval(timer);\n",
       "          console.log(\"Bokeh: ERROR: Unable to run BokehJS code because BokehJS library is missing\");\n",
       "        }\n",
       "      }\n",
       "    }, 10, root)\n",
       "  }\n",
       "})(window);"
      ],
      "application/vnd.bokehjs_exec.v0+json": ""
     },
     "metadata": {
      "application/vnd.bokehjs_exec.v0+json": {
       "id": "1185"
      }
     },
     "output_type": "display_data"
    }
   ],
   "source": [
    "from bokeh.plotting import figure, output_notebook, show\n",
    "import datetime\n",
    "import pandas as pd\n",
    "import numpy as np\n",
    "import ipywidgets as widgets\n",
    "from IPython.display import display, Markdown, clear_output\n",
    "\n",
    "output_notebook()\n",
    "\n",
    "# Setup Data\n",
    "df = pd.read_csv('https://raw.githubusercontent.com/nytimes/covid-19-data/master/us-states.csv')\n",
    "states = list(set(df['state'].to_list()))\n",
    "states.sort()\n",
    "\n",
    "\n",
    "state = widgets.Dropdown(\n",
    "    options=states,\n",
    "    value='New York',\n",
    "    description='Number:',\n",
    "    disabled=False,\n",
    ")\n",
    "\n",
    "state_button = widgets.Button(\n",
    "    description='Show State Stats',\n",
    "    disabled=False,\n",
    "    button_style='success', # 'success', 'info', 'warning', 'danger' or ''\n",
    "    tooltip='State Stats'\n",
    ")\n",
    "\n",
    "clear_button = widgets.Button(\n",
    "    description='Clear Results',\n",
    "    disabled=False,\n",
    "    button_style='danger', # 'success', 'info', 'warning', 'danger' or ''\n",
    "    tooltip='Clear Current Results'\n",
    ")\n",
    "\n",
    "def display_default(x):\n",
    "    clear_output()\n",
    "    hbox = widgets.HBox([state, state_button, clear_button])\n",
    "    display(hbox)\n",
    "\n",
    "def show_state(x):\n",
    "    display_default(None)\n",
    "    display(Markdown(f\"# {state.value}\"))\n",
    "    newyork_df = df[df['state'] == state.value]\n",
    "    date_times = list(\n",
    "        map(\n",
    "            lambda date_str: datetime.datetime.strptime(date_str, \"%Y-%m-%d\"),\n",
    "            newyork_df['date'].tolist()\n",
    "            )\n",
    "        )\n",
    "    cases = newyork_df['cases'].tolist()\n",
    "    cases_diff = np.diff(cases)\n",
    "    \n",
    "    # Plot \n",
    "    p = figure(plot_width=800,\n",
    "               plot_height=800,\n",
    "               x_axis_type=\"datetime\",\n",
    "               x_axis_label='Date (Last 10 Days)',\n",
    "               y_axis_label='Daily Increase # of Cases')\n",
    "\n",
    "    p.vbar(x=date_times[-10:], width=10, bottom=10, top=cases_diff[-10:])\n",
    "    show(p)\n",
    "    \n",
    "state_button.on_click(show_state)\n",
    "clear_button.on_click(display_default)\n",
    "\n",
    "display_default(None)"
   ]
  }
 ],
 "metadata": {
  "kernelspec": {
   "display_name": "Python 3",
   "language": "python",
   "name": "python3"
  },
  "language_info": {
   "codemirror_mode": {
    "name": "ipython",
    "version": 3
   },
   "file_extension": ".py",
   "mimetype": "text/x-python",
   "name": "python",
   "nbconvert_exporter": "python",
   "pygments_lexer": "ipython3",
   "version": "3.7.5"
  }
 },
 "nbformat": 4,
 "nbformat_minor": 4
}
